{
  "nbformat": 4,
  "nbformat_minor": 0,
  "metadata": {
    "colab": {
      "provenance": [],
      "authorship_tag": "ABX9TyMUv03ymfeDxWQlLqxlncom",
      "include_colab_link": true
    },
    "kernelspec": {
      "name": "python3",
      "display_name": "Python 3"
    },
    "language_info": {
      "name": "python"
    }
  },
  "cells": [
    {
      "cell_type": "markdown",
      "metadata": {
        "id": "view-in-github",
        "colab_type": "text"
      },
      "source": [
        "<a href=\"https://colab.research.google.com/github/adityashah841/SEM6/blob/main/INS/DES_with_API.ipynb\" target=\"_parent\"><img src=\"https://colab.research.google.com/assets/colab-badge.svg\" alt=\"Open In Colab\"/></a>"
      ]
    },
    {
      "cell_type": "code",
      "source": [
        "!pip install des"
      ],
      "metadata": {
        "colab": {
          "base_uri": "https://localhost:8080/"
        },
        "id": "7Fz0xn-GWPe9",
        "outputId": "a8220c2c-fe52-4c4d-d661-a51332b800e9"
      },
      "execution_count": 16,
      "outputs": [
        {
          "output_type": "stream",
          "name": "stdout",
          "text": [
            "Looking in indexes: https://pypi.org/simple, https://us-python.pkg.dev/colab-wheels/public/simple/\n",
            "Collecting des\n",
            "  Downloading des-1.0.6.tar.gz (6.3 kB)\n",
            "  Preparing metadata (setup.py) ... \u001b[?25l\u001b[?25hdone\n",
            "Building wheels for collected packages: des\n",
            "  Building wheel for des (setup.py) ... \u001b[?25l\u001b[?25hdone\n",
            "  Created wheel for des: filename=des-1.0.6-py3-none-any.whl size=7338 sha256=27c76131f655965b765f450467c550f7baf51308ec6bdac7d341ef1ab7a0e567\n",
            "  Stored in directory: /root/.cache/pip/wheels/06/1c/5d/929f434f3b332a0bf229132025e51f3bd18f1d17e954c4fa2e\n",
            "Successfully built des\n",
            "Installing collected packages: des\n",
            "Successfully installed des-1.0.6\n"
          ]
        }
      ]
    },
    {
      "cell_type": "code",
      "source": [
        "from des import DesKey\n",
        "key0 = DesKey(b\"some key\")"
      ],
      "metadata": {
        "id": "9cHkoWNenK3u"
      },
      "execution_count": 17,
      "outputs": []
    },
    {
      "cell_type": "code",
      "source": [
        "msg = key0.encrypt(b\"any long message\")"
      ],
      "metadata": {
        "id": "H0mLRExOne7R"
      },
      "execution_count": 19,
      "outputs": []
    },
    {
      "cell_type": "code",
      "source": [
        "msg"
      ],
      "metadata": {
        "colab": {
          "base_uri": "https://localhost:8080/"
        },
        "id": "jps89ss_ni9s",
        "outputId": "1e3eed5e-dc27-44fd-cf17-29f1cecd3d2d"
      },
      "execution_count": 20,
      "outputs": [
        {
          "output_type": "execute_result",
          "data": {
            "text/plain": [
              "b\"\\x14\\xfa\\xc2 '\\x00{\\xa9\\xdc;\\x9dq\\xcbr\\x87Q\""
            ]
          },
          "metadata": {},
          "execution_count": 20
        }
      ]
    },
    {
      "cell_type": "code",
      "source": [
        "pt = key0.decrypt(msg)"
      ],
      "metadata": {
        "id": "ZU9qpcZannIH"
      },
      "execution_count": 23,
      "outputs": []
    },
    {
      "cell_type": "code",
      "source": [
        "pt"
      ],
      "metadata": {
        "colab": {
          "base_uri": "https://localhost:8080/"
        },
        "id": "60ayE90lnu1q",
        "outputId": "1566d10a-fc57-409a-cd3e-d549c9affd98"
      },
      "execution_count": 24,
      "outputs": [
        {
          "output_type": "execute_result",
          "data": {
            "text/plain": [
              "b'any long message'"
            ]
          },
          "metadata": {},
          "execution_count": 24
        }
      ]
    },
    {
      "cell_type": "code",
      "source": [],
      "metadata": {
        "id": "yjdoc36UnvTI"
      },
      "execution_count": null,
      "outputs": []
    }
  ]
}