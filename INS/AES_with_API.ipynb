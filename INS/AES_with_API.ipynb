{
  "nbformat": 4,
  "nbformat_minor": 0,
  "metadata": {
    "colab": {
      "provenance": [],
      "authorship_tag": "ABX9TyP+YG0I9fq59gvaGKMHN4sr",
      "include_colab_link": true
    },
    "kernelspec": {
      "name": "python3",
      "display_name": "Python 3"
    },
    "language_info": {
      "name": "python"
    }
  },
  "cells": [
    {
      "cell_type": "markdown",
      "metadata": {
        "id": "view-in-github",
        "colab_type": "text"
      },
      "source": [
        "<a href=\"https://colab.research.google.com/github/adityashah841/SEM6/blob/main/INS/AES_with_API.ipynb\" target=\"_parent\"><img src=\"https://colab.research.google.com/assets/colab-badge.svg\" alt=\"Open In Colab\"/></a>"
      ]
    },
    {
      "cell_type": "code",
      "source": [
        "!pip install pyCryptodomex"
      ],
      "metadata": {
        "colab": {
          "base_uri": "https://localhost:8080/"
        },
        "id": "9RNowpS2S6Pl",
        "outputId": "2aaf3099-64f6-43ee-ad04-a32c10351c37"
      },
      "execution_count": 6,
      "outputs": [
        {
          "output_type": "stream",
          "name": "stdout",
          "text": [
            "Looking in indexes: https://pypi.org/simple, https://us-python.pkg.dev/colab-wheels/public/simple/\n",
            "Collecting pyCryptodomex\n",
            "  Downloading pycryptodomex-3.17-cp35-abi3-manylinux_2_17_x86_64.manylinux2014_x86_64.whl (2.1 MB)\n",
            "\u001b[2K     \u001b[90m━━━━━━━━━━━━━━━━━━━━━━━━━━━━━━━━━━━━━━━━\u001b[0m \u001b[32m2.1/2.1 MB\u001b[0m \u001b[31m23.6 MB/s\u001b[0m eta \u001b[36m0:00:00\u001b[0m\n",
            "\u001b[?25hInstalling collected packages: pyCryptodomex\n",
            "Successfully installed pyCryptodomex-3.17\n"
          ]
        }
      ]
    },
    {
      "cell_type": "code",
      "source": [
        "from Cryptodome.Cipher import AES"
      ],
      "metadata": {
        "id": "gICC7TRSS4Zg"
      },
      "execution_count": 7,
      "outputs": []
    },
    {
      "cell_type": "code",
      "source": [
        "key = b'Sixteen byte key'\n",
        "cipher = AES.new(key, AES.MODE_EAX)"
      ],
      "metadata": {
        "id": "BgwYMgEJSBg4"
      },
      "execution_count": 8,
      "outputs": []
    },
    {
      "cell_type": "code",
      "source": [
        "data = 'Hello World'.encode(\"utf8\")"
      ],
      "metadata": {
        "id": "iuTjyEFfTdOZ"
      },
      "execution_count": 12,
      "outputs": []
    },
    {
      "cell_type": "code",
      "source": [
        "nonce = cipher.nonce\n",
        "ciphertext, tag = cipher.encrypt_and_digest(data)"
      ],
      "metadata": {
        "id": "-LgQPKkQSkuM"
      },
      "execution_count": 13,
      "outputs": []
    },
    {
      "cell_type": "code",
      "source": [
        "ciphertext"
      ],
      "metadata": {
        "colab": {
          "base_uri": "https://localhost:8080/"
        },
        "id": "Ok3iRriOTcEf",
        "outputId": "bfdc32d8-6663-4e3d-deed-32f2d938e9b5"
      },
      "execution_count": 14,
      "outputs": [
        {
          "output_type": "execute_result",
          "data": {
            "text/plain": [
              "b'@u\\xff\\x98\\x92wk\\xb3g\\xe5T'"
            ]
          },
          "metadata": {},
          "execution_count": 14
        }
      ]
    },
    {
      "cell_type": "code",
      "source": [
        "key = b'Sixteen byte key'\n",
        "cipher = AES.new(key, AES.MODE_EAX, nonce=nonce)\n",
        "plaintext = cipher.decrypt(ciphertext)\n",
        "try:\n",
        "    cipher.verify(tag)\n",
        "    print(\"The message is authentic:\", plaintext)\n",
        "except ValueError:\n",
        "    print(\"Key incorrect or message corrupted\")"
      ],
      "metadata": {
        "colab": {
          "base_uri": "https://localhost:8080/"
        },
        "id": "R2xXS5AyTxMu",
        "outputId": "18660d5d-d812-4a80-da65-b5d41083de66"
      },
      "execution_count": 15,
      "outputs": [
        {
          "output_type": "stream",
          "name": "stdout",
          "text": [
            "The message is authentic: b'Hello World'\n"
          ]
        }
      ]
    },
    {
      "cell_type": "code",
      "source": [],
      "metadata": {
        "id": "asItue4FT5NN"
      },
      "execution_count": null,
      "outputs": []
    }
  ]
}